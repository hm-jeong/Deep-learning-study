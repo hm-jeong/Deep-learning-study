{
  "nbformat": 4,
  "nbformat_minor": 0,
  "metadata": {
    "colab": {
      "provenance": [],
      "gpuType": "T4",
      "authorship_tag": "ABX9TyNnGwE8MnfJmZ+eLO57PiRD",
      "include_colab_link": true
    },
    "kernelspec": {
      "name": "python3",
      "display_name": "Python 3"
    },
    "language_info": {
      "name": "python"
    },
    "accelerator": "GPU"
  },
  "cells": [
    {
      "cell_type": "markdown",
      "metadata": {
        "id": "view-in-github",
        "colab_type": "text"
      },
      "source": [
        "<a href=\"https://colab.research.google.com/github/hm-jeong/Deep-learning-study/blob/main/linear_regression.ipynb\" target=\"_parent\"><img src=\"https://colab.research.google.com/assets/colab-badge.svg\" alt=\"Open In Colab\"/></a>"
      ]
    },
    {
      "cell_type": "code",
      "source": [
        "import torch\n",
        "import torch.nn as nn\n",
        "import torch.nn.functional as F\n",
        "import torch.optim as optim\n",
        "\n",
        "torch.manual_seed(1)"
      ],
      "metadata": {
        "colab": {
          "base_uri": "https://localhost:8080/"
        },
        "id": "NLk6yTFLwMBI",
        "outputId": "1a3ec9c7-8d4a-49c3-9f5c-9cb5ba357a16"
      },
      "execution_count": 2,
      "outputs": [
        {
          "output_type": "execute_result",
          "data": {
            "text/plain": [
              "<torch._C.Generator at 0x79986d1519b0>"
            ]
          },
          "metadata": {},
          "execution_count": 2
        }
      ]
    },
    {
      "cell_type": "code",
      "source": [
        "x_train = torch.FloatTensor([[1], [2], [3]])\n",
        "y_train = torch.FloatTensor([[1], [2], [3]])\n",
        "\n",
        "print(x_train)\n",
        "print(x_train.shape)\n",
        "\n",
        "print(y_train)\n",
        "print(y_train.shape)"
      ],
      "metadata": {
        "colab": {
          "base_uri": "https://localhost:8080/"
        },
        "id": "VgXwejSEwaTZ",
        "outputId": "ad10c56f-6a35-4bbd-88b6-f1371125a0a5"
      },
      "execution_count": 4,
      "outputs": [
        {
          "output_type": "stream",
          "name": "stdout",
          "text": [
            "tensor([[1.],\n",
            "        [2.],\n",
            "        [3.]])\n",
            "torch.Size([3, 1])\n",
            "tensor([[1.],\n",
            "        [2.],\n",
            "        [3.]])\n",
            "torch.Size([3, 1])\n"
          ]
        }
      ]
    },
    {
      "cell_type": "code",
      "source": [
        "W = torch.zeros(1, requires_grad=True)\n",
        "print(W)\n",
        "\n",
        "b = torch.zeros(1, requires_grad=True)\n",
        "print(b)"
      ],
      "metadata": {
        "colab": {
          "base_uri": "https://localhost:8080/"
        },
        "id": "WDt8GM9vws6p",
        "outputId": "e241eaab-8d1e-41d2-ba91-6cedb65772be"
      },
      "execution_count": 6,
      "outputs": [
        {
          "output_type": "stream",
          "name": "stdout",
          "text": [
            "tensor([0.], requires_grad=True)\n",
            "tensor([0.], requires_grad=True)\n"
          ]
        }
      ]
    },
    {
      "cell_type": "code",
      "source": [
        "optimizer = optim.SGD([W, b], lr=0.01)\n"
      ],
      "metadata": {
        "id": "FVd7yBf7xER8"
      },
      "execution_count": 13,
      "outputs": []
    },
    {
      "cell_type": "code",
      "source": [
        "nb_epochs = 2000\n",
        "for epoch in range(nb_epochs):\n",
        "\n",
        "  hypothesis = x_train * W + b\n",
        "  cost = torch.mean((hypothesis - y_train) ** 2)\n",
        "\n",
        "  optimizer.zero_grad()\n",
        "  cost.backward()\n",
        "  optimizer.step()\n",
        "\n",
        "  if epoch % 100 == 0:\n",
        "    print('Epoch {:4d}/{} W: {:.3f}, b: {:.3f} Cost: {:.6f}'.format(epoch, nb_epochs, W.item(), b.item(), cost.item()))"
      ],
      "metadata": {
        "colab": {
          "base_uri": "https://localhost:8080/"
        },
        "id": "6cNEYiRyxtT5",
        "outputId": "601e319b-ea72-4c3a-dadc-51f633be63b2"
      },
      "execution_count": 16,
      "outputs": [
        {
          "output_type": "stream",
          "name": "stdout",
          "text": [
            "Epoch    0/2000 W: 1.000, b: 0.000 Cost: 0.000000\n",
            "Epoch  100/2000 W: 1.000, b: 0.000 Cost: 0.000000\n",
            "Epoch  200/2000 W: 1.000, b: 0.000 Cost: 0.000000\n",
            "Epoch  300/2000 W: 1.000, b: 0.000 Cost: 0.000000\n",
            "Epoch  400/2000 W: 1.000, b: 0.000 Cost: 0.000000\n",
            "Epoch  500/2000 W: 1.000, b: 0.000 Cost: 0.000000\n",
            "Epoch  600/2000 W: 1.000, b: 0.000 Cost: 0.000000\n",
            "Epoch  700/2000 W: 1.000, b: 0.000 Cost: 0.000000\n",
            "Epoch  800/2000 W: 1.000, b: 0.000 Cost: 0.000000\n",
            "Epoch  900/2000 W: 1.000, b: 0.000 Cost: 0.000000\n",
            "Epoch 1000/2000 W: 1.000, b: 0.000 Cost: 0.000000\n",
            "Epoch 1100/2000 W: 1.000, b: 0.000 Cost: 0.000000\n",
            "Epoch 1200/2000 W: 1.000, b: 0.000 Cost: 0.000000\n",
            "Epoch 1300/2000 W: 1.000, b: 0.000 Cost: 0.000000\n",
            "Epoch 1400/2000 W: 1.000, b: 0.000 Cost: 0.000000\n",
            "Epoch 1500/2000 W: 1.000, b: 0.000 Cost: 0.000000\n",
            "Epoch 1600/2000 W: 1.000, b: 0.000 Cost: 0.000000\n",
            "Epoch 1700/2000 W: 1.000, b: 0.000 Cost: 0.000000\n",
            "Epoch 1800/2000 W: 1.000, b: 0.000 Cost: 0.000000\n",
            "Epoch 1900/2000 W: 1.000, b: 0.000 Cost: 0.000000\n"
          ]
        }
      ]
    }
  ]
}